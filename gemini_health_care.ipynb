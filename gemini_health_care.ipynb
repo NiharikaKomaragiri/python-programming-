{
  "nbformat": 4,
  "nbformat_minor": 0,
  "metadata": {
    "colab": {
      "provenance": []
    },
    "kernelspec": {
      "name": "python3",
      "display_name": "Python 3"
    },
    "language_info": {
      "name": "python"
    }
  },
  "cells": [
    {
      "cell_type": "code",
      "execution_count": null,
      "metadata": {
        "colab": {
          "base_uri": "https://localhost:8080/"
        },
        "id": "3h8l9q_MN7t5",
        "outputId": "a0aa9f14-d4a5-47e4-dfef-5b3be878f77a"
      },
      "outputs": [
        {
          "output_type": "stream",
          "name": "stdout",
          "text": [
            "Collecting pyPDF2\n",
            "  Downloading pypdf2-3.0.1-py3-none-any.whl.metadata (6.8 kB)\n",
            "Downloading pypdf2-3.0.1-py3-none-any.whl (232 kB)\n",
            "\u001b[2K   \u001b[90m━━━━━━━━━━━━━━━━━━━━━━━━━━━━━━━━━━━━━━━━\u001b[0m \u001b[32m232.6/232.6 kB\u001b[0m \u001b[31m5.2 MB/s\u001b[0m eta \u001b[36m0:00:00\u001b[0m\n",
            "\u001b[?25hInstalling collected packages: pyPDF2\n",
            "Successfully installed pyPDF2-3.0.1\n"
          ]
        }
      ],
      "source": [
        "pip install pyPDF2"
      ]
    },
    {
      "cell_type": "code",
      "source": [
        "import google.generativeai as genai\n",
        "from google.colab import userdata\n",
        "\n",
        "GOOGLE_API_KEY = userdata.get('GOOGLE_API_KEY')\n",
        "genai.configure(api_key=GOOGLE_API_KEY)"
      ],
      "metadata": {
        "id": "CjuL3RarTJSs"
      },
      "execution_count": 12,
      "outputs": []
    },
    {
      "cell_type": "code",
      "source": [
        "import PyPDF2\n",
        "\n",
        "def extract_text_from_pdf(pdf_path):\n",
        "\n",
        "  \"\"\"Extracts text from a given health report PDF using PYPDF2.\"\"\"\n",
        "\n",
        "  text = \"\"\n",
        "\n",
        "  with open(pdf_path, 'rb') as pdf_file:\n",
        "\n",
        "    reader = PyPDF2.PdfReader(pdf_file)\n",
        "\n",
        "    for page in reader.pages:\n",
        "\n",
        "      text += page.extract_text() + \"\\n\"\n",
        "      return text"
      ],
      "metadata": {
        "id": "zEywejhcOKY8"
      },
      "execution_count": null,
      "outputs": []
    },
    {
      "cell_type": "code",
      "source": [
        "from typing_extensions import Text\n",
        "def extract_health_insights(text):\n",
        "  \"\"\"Asks Gemini AI to extract key medical insights from the report.\"\"\"\n",
        "  model = genai.GenerativeModel(\"gemini-1.5-flash\")\n",
        "  prompt = f\"Extract key insights from the following health report:\\n\\n{text}\"\n",
        "  reponse = model.generate_content(prompt)\n",
        "  return reponse.text\n",
        "#Example Usage\n",
        "pdf_file = \"health_report.pdf\"\n",
        "extracted_text = extract_text_from_pdf(pdf_file)\n",
        "insights = extract_health_insights(extracted_text)\n",
        "print(\"Key Insights:\\n\",insights)"
      ],
      "metadata": {
        "colab": {
          "base_uri": "https://localhost:8080/",
          "height": 193
        },
        "id": "cuVVTm9fS26S",
        "outputId": "d6a024a4-66c1-48c7-d4b8-85f5f4d51d47"
      },
      "execution_count": 13,
      "outputs": [
        {
          "output_type": "stream",
          "name": "stdout",
          "text": [
            "Key Insights:\n",
            " Key insights from the Widal test report for Mr. Kishan Goud (MR2100003157):\n",
            "\n",
            "* **Positive for *Salmonella Typhi*:**  The titers for *Salmonella Typhi* \"O\" (1:160) and \"H\" (1:80) are significantly higher than the reference range (1:20), indicating a likely past or present infection with *Salmonella Typhi* (the causative agent of typhoid fever).  The \"O\" antigen titer is higher than the \"H\" suggesting a more recent infection.\n",
            "\n",
            "* **Negative for *Salmonella Paratyphi*:** The titers for both *Salmonella Paratyphi* \"A\" and \"B\" are within the reference range (1:20), suggesting no evidence of infection with these bacteria.\n",
            "\n",
            "**Important Note:** A Widal test is not definitive for typhoid diagnosis.  Further investigations may be needed to confirm the diagnosis. The high titers suggest past or present infection, but additional clinical information is crucial.  The report does not provide an interpretation of the clinical significance.\n",
            "\n"
          ]
        }
      ]
    },
    {
      "cell_type": "code",
      "source": [
        "def summarize_health_report(text):\n",
        "  \"\"\"Summarizes the health report using Gemini AI.\"\"\"\n",
        "  model=genai.GenerativeModel(\"gemini-1.5-flash\")\n",
        "  prompt=f\"Summarize the following health report in a concise manner:\\n\\n{text}\"\n",
        "  response=model.generate_content(prompt)\n",
        "  return response.text\n",
        "\n",
        "summary=summarize_health_report(extracted_text)\n",
        "print(\"Summary:\\n\",summary)"
      ],
      "metadata": {
        "colab": {
          "base_uri": "https://localhost:8080/",
          "height": 89
        },
        "id": "tAo-fIHtS8HS",
        "outputId": "c096f05e-9e57-47b3-f822-2cad9bd0c7dd"
      },
      "execution_count": 14,
      "outputs": [
        {
          "output_type": "stream",
          "name": "stdout",
          "text": [
            "Summary:\n",
            " Mr. Kishan Goud's (MRN: MR2100003157) Widal test showed elevated titers for *Salmonella Typhi* \"O\" (1:160) and \"H\" (1:80), suggesting possible typhoid fever.  *Salmonella Paratyphi* \"AH\" and \"BH\" titers were within the normal range.\n",
            "\n"
          ]
        }
      ]
    },
    {
      "cell_type": "code",
      "source": [
        "def detect_abnormalities(text):\n",
        "  \"\"\"Analyzes the lab test results and flags abnormal values.\"\"\"\n",
        "  model=genai.GenerativeModel(\"gemini-1.5-flash\")\n",
        "  prompt=f\"Analyze the lab test results in the following health report and highlight any abnormal values:\\n\\n{text}\"\n",
        "  response=model.generate_content(prompt)\n",
        "  return response.text\n",
        "\n",
        "abnormalities=detect_abnormalities(extracted_text)\n",
        "print(\"Potential Abnormalities:\\n\",abnormalities)"
      ],
      "metadata": {
        "colab": {
          "base_uri": "https://localhost:8080/",
          "height": 228
        },
        "id": "yaq2Uf5QUbrf",
        "outputId": "76e6facb-6efb-48ad-e4fc-9ef1c683eb1f"
      },
      "execution_count": 15,
      "outputs": [
        {
          "output_type": "stream",
          "name": "stdout",
          "text": [
            "Potential Abnormalities:\n",
            " The abnormal values in the Widal test are:\n",
            "\n",
            "* **S. Typhi \"O\": 1:160**  The reference range is 1:20.  A titer of 1:160 is significantly higher than the reference range, suggesting a possible past or current infection with *Salmonella Typhi*.\n",
            "\n",
            "* **S. Typhi \"H\": 1:80** The reference range is 1:20.  Similar to the \"O\" antigen result, this is also significantly elevated, further supporting a possible *Salmonella Typhi* infection.\n",
            "\n",
            "The results for *S. Paratyphi* \"AH\" and \"BH\" are within the normal range (1:20).\n",
            "\n",
            "**Important Note:**  A Widal test is not definitive for diagnosing typhoid fever.  Elevated titers can indicate past exposure, a current infection, or even a non-specific reaction.  Further investigations and clinical correlation are necessary to confirm a diagnosis.  A single positive Widal test is insufficient for diagnosis.  The doctor should consider other diagnostic tests (e.g., blood culture) to confirm or rule out typhoid fever.\n",
            "\n"
          ]
        }
      ]
    },
    {
      "cell_type": "code",
      "source": [
        "def explain_medical_terms(text):\n",
        "  \"\"\"Asks Gemini AI to simplify terms for patient understanding.\"\"\"\n",
        "  model=genai.GenerativeModel(\"gemini-1.5-flash\")\n",
        "  prompt=f\"Explain the medical terms in the following health report in simple language:\\n\\n{text}\"\n",
        "  response=model.generate_content(prompt)\n",
        "  return response.text\n",
        "\n",
        "explanation=explain_medical_terms(extracted_text)\n",
        "print(\"Simplified Explanation:\\n\",explanation)"
      ],
      "metadata": {
        "colab": {
          "base_uri": "https://localhost:8080/",
          "height": 263
        },
        "id": "WD1ynytzXgas",
        "outputId": "0e3c47b0-9547-46db-b715-7a7ac9aee9fc"
      },
      "execution_count": 16,
      "outputs": [
        {
          "output_type": "stream",
          "name": "stdout",
          "text": [
            "Simplified Explanation:\n",
            " This report shows the results of a Widal test, a blood test used to check for antibodies against typhoid and paratyphoid fevers.  Let's break down the results:\n",
            "\n",
            "* **S. Typhi \"O\" 1:160:** This measures antibodies to the \"O\" antigen of *Salmonella Typhi*, the bacteria that causes typhoid fever.  A result of 1:160 is significantly higher than the reference range (1:20), suggesting a possible recent infection or past exposure to typhoid.\n",
            "\n",
            "* **S. Typhi \"H\" 1:80:** This measures antibodies to the \"H\" antigen of *Salmonella Typhi*.  A result of 1:80 is also higher than the reference range, further supporting the possibility of typhoid infection.\n",
            "\n",
            "* **S. Paratyphi \"AH\" 1:20:** This measures antibodies to the \"AH\" antigen of *Salmonella Paratyphi A*, which causes paratyphoid fever. The result is within the reference range, suggesting no current infection with this specific bacteria.\n",
            "\n",
            "* **S. Paratyphi \"BH\" 1:20:** This measures antibodies to the \"BH\" antigen of *Salmonella Paratyphi B*, another cause of paratyphoid fever. The result is also within the reference range, indicating no current infection with this bacteria.\n",
            "\n",
            "**In simple terms:** The test shows a likely past or current infection with typhoid fever (S. Typhi), but not paratyphoid fever (S. Paratyphi A or B).  The high antibody levels (1:160 and 1:80 for S. Typhi) suggest a significant response, but this alone can't definitively diagnose typhoid;  other clinical factors need to be considered by the doctor.  The doctor will interpret these results along with the patient's symptoms and other test results to make a diagnosis.\n",
            "\n"
          ]
        }
      ]
    },
    {
      "cell_type": "code",
      "source": [
        "def ask_gemini_about_report(text, question):\n",
        "  \"\"\"Allows users to ask questions about their health report.\"\"\"\n",
        "  model=genai.GenerativeModel(\"gemini-1.5-flash\")\n",
        "  prompt=f\"The following is a health report:\\n\\n{text}\\n\\nAnswer the following questions based on the report:\\n{question}\"\n",
        "  response=model.generate_content(prompt)\n",
        "  return response.text\n",
        "\n",
        "question=\"What is the patient's diagnosis?\"\n",
        "answer=ask_gemini_about_report(extracted_text, question)\n",
        "print(\"Answer:\\n\",answer)"
      ],
      "metadata": {
        "id": "2Y_fXN33XlNz",
        "outputId": "04b7ddaa-3b93-4198-953b-52f15f8e253d",
        "colab": {
          "base_uri": "https://localhost:8080/",
          "height": 124
        }
      },
      "execution_count": 17,
      "outputs": [
        {
          "output_type": "stream",
          "name": "stdout",
          "text": [
            "Answer:\n",
            " Based solely on the provided Widal test results, a definitive diagnosis cannot be made.  The patient shows a positive titer for *Salmonella Typhi* \"O\" (1:160) and \"H\" (1:80) antigens, which is suggestive of *Salmonella Typhi* infection (typhoid fever). However,  the titers for *Salmonella Paratyphi* AH and BH are within the reference range, making them less likely contributors.\n",
            "\n",
            "**Important Note:**  A Widal test is not definitive for typhoid fever.  A positive result indicates exposure to the bacteria, but it doesn't confirm active infection.  Other factors like clinical symptoms and other diagnostic tests (e.g., blood culture) are necessary for a proper diagnosis.  The high titer for *Salmonella Typhi* warrants further investigation.  This report alone is insufficient for diagnosis.\n",
            "\n"
          ]
        }
      ]
    },
    {
      "cell_type": "code",
      "source": [],
      "metadata": {
        "id": "Db_Vs1otXqS5"
      },
      "execution_count": null,
      "outputs": []
    }
  ]
}